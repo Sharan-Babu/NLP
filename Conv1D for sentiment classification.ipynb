{
  "nbformat": 4,
  "nbformat_minor": 0,
  "metadata": {
    "accelerator": "GPU",
    "colab": {
      "name": "Copy of NLP Course - Week 3 Exercise Answer.ipynb",
      "provenance": [],
      "toc_visible": true,
      "include_colab_link": true
    },
    "kernelspec": {
      "display_name": "Python 3",
      "language": "python",
      "name": "python3"
    },
    "language_info": {
      "codemirror_mode": {
        "name": "ipython",
        "version": 3
      },
      "file_extension": ".py",
      "mimetype": "text/x-python",
      "name": "python",
      "nbconvert_exporter": "python",
      "pygments_lexer": "ipython3",
      "version": "3.7.6"
    }
  },
  "cells": [
    {
      "cell_type": "markdown",
      "metadata": {
        "id": "view-in-github",
        "colab_type": "text"
      },
      "source": [
        "<a href=\"https://colab.research.google.com/github/Sharan-Babu/NLP/blob/master/Conv1D%20for%20sentiment%20classification.ipynb\" target=\"_parent\"><img src=\"https://colab.research.google.com/assets/colab-badge.svg\" alt=\"Open In Colab\"/></a>"
      ]
    },
    {
      "cell_type": "code",
      "metadata": {
        "colab_type": "code",
        "id": "zX4Kg8DUTKWO",
        "colab": {}
      },
      "source": [
        "#@title Licensed under the Apache License, Version 2.0 (the \"License\");\n",
        "# you may not use this file except in compliance with the License.\n",
        "# You may obtain a copy of the License at\n",
        "#\n",
        "# https://www.apache.org/licenses/LICENSE-2.0\n",
        "#\n",
        "# Unless required by applicable law or agreed to in writing, software\n",
        "# distributed under the License is distributed on an \"AS IS\" BASIS,\n",
        "# WITHOUT WARRANTIES OR CONDITIONS OF ANY KIND, either express or implied.\n",
        "# See the License for the specific language governing permissions and\n",
        "# limitations under the License."
      ],
      "execution_count": null,
      "outputs": []
    },
    {
      "cell_type": "markdown",
      "metadata": {
        "id": "SIQpv9BOD02t",
        "colab_type": "text"
      },
      "source": [
        "<a href=\"https://colab.research.google.com/github/lmoroney/dlaicourse/blob/master/TensorFlow%20In%20Practice/Course%203%20-%20NLP/NLP%20Course%20-%20Week%203%20Exercise%20Answer.ipynb\" target=\"_parent\"><img src=\"https://colab.research.google.com/assets/colab-badge.svg\" alt=\"Open In Colab\"/></a>"
      ]
    },
    {
      "cell_type": "code",
      "metadata": {
        "colab_type": "code",
        "id": "hmA6EzkQJ5jt",
        "colab": {}
      },
      "source": [
        "import json\n",
        "import tensorflow as tf\n",
        "import csv\n",
        "import random\n",
        "import numpy as np\n",
        "\n",
        "from tensorflow.keras.preprocessing.text import Tokenizer\n",
        "from tensorflow.keras.preprocessing.sequence import pad_sequences\n",
        "from tensorflow.keras.utils import to_categorical\n",
        "from tensorflow.keras import regularizers\n",
        "\n",
        "\n",
        "embedding_dim = 100\n",
        "max_length = 16\n",
        "trunc_type='post'\n",
        "padding_type='post'\n",
        "oov_tok = \"<OOV>\"\n",
        "training_size=160000\n",
        "test_portion=.1\n",
        "\n",
        "corpus = []\n"
      ],
      "execution_count": null,
      "outputs": []
    },
    {
      "cell_type": "code",
      "metadata": {
        "colab_type": "code",
        "id": "bM0l_dORKqE0",
        "colab": {
          "base_uri": "https://localhost:8080/",
          "height": 212
        },
        "outputId": "197918a7-b462-40e4-b4d2-4d411e20a242"
      },
      "source": [
        "# Note that I cleaned the Stanford dataset to remove LATIN1 encoding to make it easier for Python CSV reader\n",
        "# You can do that yourself with:\n",
        "# iconv -f LATIN1 -t UTF8 training.1600000.processed.noemoticon.csv -o training_cleaned.csv\n",
        "# I then hosted it on my site to make it easier to use in this notebook\n",
        "\n",
        "!wget --no-check-certificate \\\n",
        "    https://storage.googleapis.com/laurencemoroney-blog.appspot.com/training_cleaned.csv \\\n",
        "    -O /tmp/training_cleaned.csv\n",
        "\n",
        "num_sentences = 0\n",
        "\n",
        "with open(\"/tmp/training_cleaned.csv\") as csvfile:\n",
        "    reader = csv.reader(csvfile, delimiter=',')\n",
        "    for row in reader:\n",
        "        list_item=[]\n",
        "        list_item.append(row[5])\n",
        "        this_label=row[0]\n",
        "        if this_label=='0':\n",
        "            list_item.append(0)\n",
        "        else:\n",
        "            list_item.append(1)\n",
        "        num_sentences = num_sentences + 1\n",
        "        corpus.append(list_item)\n"
      ],
      "execution_count": null,
      "outputs": [
        {
          "output_type": "stream",
          "text": [
            "--2020-07-23 00:25:33--  https://storage.googleapis.com/laurencemoroney-blog.appspot.com/training_cleaned.csv\n",
            "Resolving storage.googleapis.com (storage.googleapis.com)... 74.125.206.128, 64.233.166.128, 108.177.15.128, ...\n",
            "Connecting to storage.googleapis.com (storage.googleapis.com)|74.125.206.128|:443... connected.\n",
            "HTTP request sent, awaiting response... 200 OK\n",
            "Length: 238942690 (228M) [application/octet-stream]\n",
            "Saving to: ‘/tmp/training_cleaned.csv’\n",
            "\n",
            "/tmp/training_clean 100%[===================>] 227.87M  40.5MB/s    in 5.6s    \n",
            "\n",
            "2020-07-23 00:25:39 (40.5 MB/s) - ‘/tmp/training_cleaned.csv’ saved [238942690/238942690]\n",
            "\n"
          ],
          "name": "stdout"
        }
      ]
    },
    {
      "cell_type": "code",
      "metadata": {
        "colab_type": "code",
        "id": "3kxblBUjEUX-",
        "colab": {
          "base_uri": "https://localhost:8080/",
          "height": 70
        },
        "outputId": "69f90f3e-ff4c-4237-fcb4-61c9eaa42288"
      },
      "source": [
        "print(num_sentences)\n",
        "print(len(corpus))\n",
        "print(corpus[1])\n",
        "\n",
        "# Expected Output:\n",
        "# 1600000\n",
        "# 1600000\n",
        "# [\"is upset that he can't update his Facebook by texting it... and might cry as a result  School today also. Blah!\", 0]"
      ],
      "execution_count": null,
      "outputs": [
        {
          "output_type": "stream",
          "text": [
            "1600000\n",
            "1600000\n",
            "[\"is upset that he can't update his Facebook by texting it... and might cry as a result  School today also. Blah!\", 0]\n"
          ],
          "name": "stdout"
        }
      ]
    },
    {
      "cell_type": "code",
      "metadata": {
        "colab_type": "code",
        "id": "ohOGz24lsNAD",
        "colab": {}
      },
      "source": [
        "sentences=[]\n",
        "labels=[]\n",
        "random.shuffle(corpus)\n",
        "for x in range(training_size):\n",
        "    sentences.append(corpus[x][0])\n",
        "    labels.append(corpus[x][1])\n",
        "\n",
        "\n",
        "tokenizer = Tokenizer()\n",
        "tokenizer.fit_on_texts(sentences)\n",
        "\n",
        "word_index = tokenizer.word_index\n",
        "vocab_size=len(word_index)\n",
        "\n",
        "sequences = tokenizer.texts_to_sequences(sentences)\n",
        "padded = pad_sequences(sequences, maxlen=max_length, padding=padding_type, truncating=trunc_type)\n",
        "\n",
        "split = int(test_portion * training_size)\n",
        "\n",
        "test_sequences = padded[0:split]\n",
        "training_sequences = padded[split:training_size]\n",
        "test_labels = labels[0:split]\n",
        "training_labels = labels[split:training_size]"
      ],
      "execution_count": null,
      "outputs": []
    },
    {
      "cell_type": "code",
      "metadata": {
        "colab_type": "code",
        "id": "gIrtRem1En3N",
        "colab": {
          "base_uri": "https://localhost:8080/",
          "height": 52
        },
        "outputId": "e3c51a93-0af7-422b-d0b1-ed3bffb789e9"
      },
      "source": [
        "print(vocab_size)\n",
        "print(word_index['i'])\n",
        "# Expected Output\n",
        "# 138858\n",
        "# 1"
      ],
      "execution_count": null,
      "outputs": [
        {
          "output_type": "stream",
          "text": [
            "138695\n",
            "1\n"
          ],
          "name": "stdout"
        }
      ]
    },
    {
      "cell_type": "code",
      "metadata": {
        "colab_type": "code",
        "id": "C1zdgJkusRh0",
        "colab": {
          "base_uri": "https://localhost:8080/",
          "height": 212
        },
        "outputId": "f1d0bdcf-7e90-43bc-c33e-81b0f7d037f2"
      },
      "source": [
        "# Note this is the 100 dimension version of GloVe from Stanford\n",
        "# I unzipped and hosted it on my site to make this notebook easier\n",
        "!wget --no-check-certificate \\\n",
        "    https://storage.googleapis.com/laurencemoroney-blog.appspot.com/glove.6B.100d.txt \\\n",
        "    -O /tmp/glove.6B.100d.txt\n",
        "embeddings_index = {};\n",
        "with open('/tmp/glove.6B.100d.txt') as f:\n",
        "    for line in f:\n",
        "        values = line.split();\n",
        "        word = values[0];\n",
        "        coefs = np.asarray(values[1:], dtype='float32');\n",
        "        embeddings_index[word] = coefs;\n",
        "\n",
        "embeddings_matrix = np.zeros((vocab_size+1, embedding_dim));\n",
        "for word, i in word_index.items():\n",
        "    embedding_vector = embeddings_index.get(word);\n",
        "    if embedding_vector is not None:\n",
        "        embeddings_matrix[i] = embedding_vector;"
      ],
      "execution_count": null,
      "outputs": [
        {
          "output_type": "stream",
          "text": [
            "--2020-07-23 00:25:55--  https://storage.googleapis.com/laurencemoroney-blog.appspot.com/glove.6B.100d.txt\n",
            "Resolving storage.googleapis.com (storage.googleapis.com)... 108.177.15.128, 173.194.76.128, 66.102.1.128, ...\n",
            "Connecting to storage.googleapis.com (storage.googleapis.com)|108.177.15.128|:443... connected.\n",
            "HTTP request sent, awaiting response... 200 OK\n",
            "Length: 347116733 (331M) [text/plain]\n",
            "Saving to: ‘/tmp/glove.6B.100d.txt’\n",
            "\n",
            "/tmp/glove.6B.100d. 100%[===================>] 331.04M  39.9MB/s    in 8.3s    \n",
            "\n",
            "2020-07-23 00:26:04 (39.9 MB/s) - ‘/tmp/glove.6B.100d.txt’ saved [347116733/347116733]\n",
            "\n"
          ],
          "name": "stdout"
        }
      ]
    },
    {
      "cell_type": "code",
      "metadata": {
        "colab_type": "code",
        "id": "71NLk_lpFLNt",
        "colab": {
          "base_uri": "https://localhost:8080/",
          "height": 34
        },
        "outputId": "c3b22ff9-259d-4465-e16e-f635889b18e2"
      },
      "source": [
        "print(len(embeddings_matrix))\n",
        "# Expected Output\n",
        "# 138859"
      ],
      "execution_count": null,
      "outputs": [
        {
          "output_type": "stream",
          "text": [
            "138696\n"
          ],
          "name": "stdout"
        }
      ]
    },
    {
      "cell_type": "code",
      "metadata": {
        "colab_type": "code",
        "id": "iKKvbuEBOGFz",
        "colab": {
          "base_uri": "https://localhost:8080/",
          "height": 1000
        },
        "outputId": "a296a1f5-0ee4-4395-ea47-f047cc81c357"
      },
      "source": [
        "model = tf.keras.Sequential([\n",
        "    tf.keras.layers.Embedding(vocab_size+1, embedding_dim, input_length=max_length, weights=[embeddings_matrix], trainable=False),\n",
        "    tf.keras.layers.Dropout(0.2),\n",
        "    tf.keras.layers.Conv1D(64, 5, activation='relu'),\n",
        "    tf.keras.layers.MaxPooling1D(pool_size=4),\n",
        "    tf.keras.layers.LSTM(64),\n",
        "    tf.keras.layers.Dense(1, activation='sigmoid')\n",
        "])\n",
        "model.compile(loss='binary_crossentropy',optimizer='adam',metrics=['accuracy'])\n",
        "model.summary()\n",
        "\n",
        "num_epochs = 50\n",
        "\n",
        "training_padded = np.array(training_sequences)\n",
        "training_labels = np.array(training_labels)\n",
        "testing_padded = np.array(test_sequences)\n",
        "testing_labels = np.array(test_labels)\n",
        "\n",
        "history = model.fit(training_padded, training_labels, epochs=num_epochs, validation_data=(testing_padded, testing_labels), verbose=2)\n",
        "\n",
        "print(\"Training Complete\")"
      ],
      "execution_count": null,
      "outputs": [
        {
          "output_type": "stream",
          "text": [
            "Model: \"sequential\"\n",
            "_________________________________________________________________\n",
            "Layer (type)                 Output Shape              Param #   \n",
            "=================================================================\n",
            "embedding (Embedding)        (None, 16, 100)           13869600  \n",
            "_________________________________________________________________\n",
            "dropout (Dropout)            (None, 16, 100)           0         \n",
            "_________________________________________________________________\n",
            "conv1d (Conv1D)              (None, 12, 64)            32064     \n",
            "_________________________________________________________________\n",
            "max_pooling1d (MaxPooling1D) (None, 3, 64)             0         \n",
            "_________________________________________________________________\n",
            "lstm (LSTM)                  (None, 64)                33024     \n",
            "_________________________________________________________________\n",
            "dense (Dense)                (None, 1)                 65        \n",
            "=================================================================\n",
            "Total params: 13,934,753\n",
            "Trainable params: 65,153\n",
            "Non-trainable params: 13,869,600\n",
            "_________________________________________________________________\n",
            "Epoch 1/50\n",
            "4500/4500 - 20s - loss: 0.5681 - accuracy: 0.6993 - val_loss: 0.5263 - val_accuracy: 0.7381\n",
            "Epoch 2/50\n",
            "4500/4500 - 21s - loss: 0.5272 - accuracy: 0.7320 - val_loss: 0.5095 - val_accuracy: 0.7462\n",
            "Epoch 3/50\n",
            "4500/4500 - 20s - loss: 0.5107 - accuracy: 0.7439 - val_loss: 0.5027 - val_accuracy: 0.7519\n",
            "Epoch 4/50\n",
            "4500/4500 - 20s - loss: 0.4994 - accuracy: 0.7504 - val_loss: 0.5055 - val_accuracy: 0.7504\n",
            "Epoch 5/50\n",
            "4500/4500 - 20s - loss: 0.4908 - accuracy: 0.7571 - val_loss: 0.5006 - val_accuracy: 0.7552\n",
            "Epoch 6/50\n",
            "4500/4500 - 20s - loss: 0.4830 - accuracy: 0.7619 - val_loss: 0.4992 - val_accuracy: 0.7554\n",
            "Epoch 7/50\n",
            "4500/4500 - 20s - loss: 0.4780 - accuracy: 0.7661 - val_loss: 0.5068 - val_accuracy: 0.7482\n",
            "Epoch 8/50\n",
            "4500/4500 - 20s - loss: 0.4727 - accuracy: 0.7693 - val_loss: 0.4986 - val_accuracy: 0.7569\n",
            "Epoch 9/50\n",
            "4500/4500 - 20s - loss: 0.4683 - accuracy: 0.7712 - val_loss: 0.5040 - val_accuracy: 0.7544\n",
            "Epoch 10/50\n",
            "4500/4500 - 20s - loss: 0.4640 - accuracy: 0.7743 - val_loss: 0.5004 - val_accuracy: 0.7562\n",
            "Epoch 11/50\n",
            "4500/4500 - 20s - loss: 0.4614 - accuracy: 0.7758 - val_loss: 0.5038 - val_accuracy: 0.7516\n",
            "Epoch 12/50\n",
            "4500/4500 - 20s - loss: 0.4578 - accuracy: 0.7782 - val_loss: 0.5056 - val_accuracy: 0.7513\n",
            "Epoch 13/50\n",
            "4500/4500 - 20s - loss: 0.4553 - accuracy: 0.7802 - val_loss: 0.5031 - val_accuracy: 0.7525\n",
            "Epoch 14/50\n",
            "4500/4500 - 20s - loss: 0.4530 - accuracy: 0.7806 - val_loss: 0.5027 - val_accuracy: 0.7544\n",
            "Epoch 15/50\n",
            "4500/4500 - 20s - loss: 0.4517 - accuracy: 0.7819 - val_loss: 0.5107 - val_accuracy: 0.7532\n",
            "Epoch 16/50\n",
            "4500/4500 - 20s - loss: 0.4504 - accuracy: 0.7815 - val_loss: 0.5023 - val_accuracy: 0.7524\n",
            "Epoch 17/50\n",
            "4500/4500 - 20s - loss: 0.4482 - accuracy: 0.7849 - val_loss: 0.5063 - val_accuracy: 0.7554\n",
            "Epoch 18/50\n",
            "4500/4500 - 20s - loss: 0.4455 - accuracy: 0.7854 - val_loss: 0.5095 - val_accuracy: 0.7530\n",
            "Epoch 19/50\n",
            "4500/4500 - 20s - loss: 0.4445 - accuracy: 0.7856 - val_loss: 0.5107 - val_accuracy: 0.7525\n",
            "Epoch 20/50\n",
            "4500/4500 - 20s - loss: 0.4431 - accuracy: 0.7860 - val_loss: 0.5086 - val_accuracy: 0.7521\n",
            "Epoch 21/50\n",
            "4500/4500 - 19s - loss: 0.4427 - accuracy: 0.7863 - val_loss: 0.5126 - val_accuracy: 0.7521\n",
            "Epoch 22/50\n",
            "4500/4500 - 19s - loss: 0.4416 - accuracy: 0.7874 - val_loss: 0.5140 - val_accuracy: 0.7504\n",
            "Epoch 23/50\n",
            "4500/4500 - 20s - loss: 0.4401 - accuracy: 0.7875 - val_loss: 0.5111 - val_accuracy: 0.7504\n",
            "Epoch 24/50\n",
            "4500/4500 - 20s - loss: 0.4400 - accuracy: 0.7886 - val_loss: 0.5173 - val_accuracy: 0.7480\n",
            "Epoch 25/50\n",
            "4500/4500 - 20s - loss: 0.4394 - accuracy: 0.7893 - val_loss: 0.5120 - val_accuracy: 0.7523\n",
            "Epoch 26/50\n",
            "4500/4500 - 19s - loss: 0.4375 - accuracy: 0.7910 - val_loss: 0.5160 - val_accuracy: 0.7504\n",
            "Epoch 27/50\n",
            "4500/4500 - 19s - loss: 0.4364 - accuracy: 0.7903 - val_loss: 0.5152 - val_accuracy: 0.7523\n",
            "Epoch 28/50\n",
            "4500/4500 - 20s - loss: 0.4354 - accuracy: 0.7907 - val_loss: 0.5188 - val_accuracy: 0.7518\n",
            "Epoch 29/50\n",
            "4500/4500 - 19s - loss: 0.4369 - accuracy: 0.7891 - val_loss: 0.5167 - val_accuracy: 0.7504\n",
            "Epoch 30/50\n",
            "4500/4500 - 19s - loss: 0.4344 - accuracy: 0.7918 - val_loss: 0.5155 - val_accuracy: 0.7499\n",
            "Epoch 31/50\n",
            "4500/4500 - 19s - loss: 0.4350 - accuracy: 0.7923 - val_loss: 0.5179 - val_accuracy: 0.7508\n",
            "Epoch 32/50\n",
            "4500/4500 - 19s - loss: 0.4355 - accuracy: 0.7912 - val_loss: 0.5160 - val_accuracy: 0.7494\n",
            "Epoch 33/50\n",
            "4500/4500 - 20s - loss: 0.4335 - accuracy: 0.7928 - val_loss: 0.5136 - val_accuracy: 0.7515\n",
            "Epoch 34/50\n",
            "4500/4500 - 20s - loss: 0.4336 - accuracy: 0.7917 - val_loss: 0.5142 - val_accuracy: 0.7483\n",
            "Epoch 35/50\n",
            "4500/4500 - 19s - loss: 0.4329 - accuracy: 0.7937 - val_loss: 0.5183 - val_accuracy: 0.7529\n",
            "Epoch 36/50\n",
            "4500/4500 - 19s - loss: 0.4329 - accuracy: 0.7929 - val_loss: 0.5214 - val_accuracy: 0.7467\n",
            "Epoch 37/50\n",
            "4500/4500 - 19s - loss: 0.4308 - accuracy: 0.7930 - val_loss: 0.5205 - val_accuracy: 0.7496\n",
            "Epoch 38/50\n",
            "4500/4500 - 19s - loss: 0.4324 - accuracy: 0.7930 - val_loss: 0.5216 - val_accuracy: 0.7511\n",
            "Epoch 39/50\n",
            "4500/4500 - 19s - loss: 0.4307 - accuracy: 0.7948 - val_loss: 0.5261 - val_accuracy: 0.7488\n",
            "Epoch 40/50\n",
            "4500/4500 - 19s - loss: 0.4283 - accuracy: 0.7951 - val_loss: 0.5214 - val_accuracy: 0.7476\n",
            "Epoch 41/50\n",
            "4500/4500 - 19s - loss: 0.4296 - accuracy: 0.7941 - val_loss: 0.5272 - val_accuracy: 0.7492\n",
            "Epoch 42/50\n",
            "4500/4500 - 19s - loss: 0.4303 - accuracy: 0.7945 - val_loss: 0.5201 - val_accuracy: 0.7462\n",
            "Epoch 43/50\n",
            "4500/4500 - 20s - loss: 0.4300 - accuracy: 0.7948 - val_loss: 0.5249 - val_accuracy: 0.7454\n",
            "Epoch 44/50\n",
            "4500/4500 - 19s - loss: 0.4304 - accuracy: 0.7945 - val_loss: 0.5250 - val_accuracy: 0.7488\n",
            "Epoch 45/50\n",
            "4500/4500 - 19s - loss: 0.4304 - accuracy: 0.7940 - val_loss: 0.5189 - val_accuracy: 0.7505\n",
            "Epoch 46/50\n",
            "4500/4500 - 19s - loss: 0.4297 - accuracy: 0.7947 - val_loss: 0.5273 - val_accuracy: 0.7464\n",
            "Epoch 47/50\n",
            "4500/4500 - 19s - loss: 0.4293 - accuracy: 0.7952 - val_loss: 0.5258 - val_accuracy: 0.7498\n",
            "Epoch 48/50\n",
            "4500/4500 - 19s - loss: 0.4276 - accuracy: 0.7966 - val_loss: 0.5254 - val_accuracy: 0.7488\n",
            "Epoch 49/50\n",
            "4500/4500 - 20s - loss: 0.4278 - accuracy: 0.7969 - val_loss: 0.5265 - val_accuracy: 0.7471\n",
            "Epoch 50/50\n",
            "4500/4500 - 19s - loss: 0.4268 - accuracy: 0.7963 - val_loss: 0.5295 - val_accuracy: 0.7452\n",
            "Training Complete\n"
          ],
          "name": "stdout"
        }
      ]
    },
    {
      "cell_type": "code",
      "metadata": {
        "colab_type": "code",
        "id": "qxju4ItJKO8F",
        "colab": {
          "base_uri": "https://localhost:8080/",
          "height": 608
        },
        "outputId": "2fa0d47f-43a2-4a83-fe94-f53d082f6080"
      },
      "source": [
        "import matplotlib.image  as mpimg\n",
        "import matplotlib.pyplot as plt\n",
        "\n",
        "#-----------------------------------------------------------\n",
        "# Retrieve a list of list results on training and test data\n",
        "# sets for each training epoch\n",
        "#-----------------------------------------------------------\n",
        "acc=history.history['accuracy']\n",
        "val_acc=history.history['val_accuracy']\n",
        "loss=history.history['loss']\n",
        "val_loss=history.history['val_loss']\n",
        "\n",
        "epochs=range(len(acc)) # Get number of epochs\n",
        "\n",
        "#------------------------------------------------\n",
        "# Plot training and validation accuracy per epoch\n",
        "#------------------------------------------------\n",
        "plt.plot(epochs, acc, 'r')\n",
        "plt.plot(epochs, val_acc, 'b')\n",
        "plt.title('Training and validation accuracy')\n",
        "plt.xlabel(\"Epochs\")\n",
        "plt.ylabel(\"Accuracy\")\n",
        "plt.legend([\"Accuracy\", \"Validation Accuracy\"])\n",
        "\n",
        "plt.figure()\n",
        "\n",
        "#------------------------------------------------\n",
        "# Plot training and validation loss per epoch\n",
        "#------------------------------------------------\n",
        "plt.plot(epochs, loss, 'r')\n",
        "plt.plot(epochs, val_loss, 'b')\n",
        "plt.title('Training and validation loss')\n",
        "plt.xlabel(\"Epochs\")\n",
        "plt.ylabel(\"Loss\")\n",
        "plt.legend([\"Loss\", \"Validation Loss\"])\n",
        "\n",
        "plt.figure()\n",
        "\n",
        "\n",
        "# Expected Output\n",
        "# A chart where the validation loss does not increase sharply!"
      ],
      "execution_count": null,
      "outputs": [
        {
          "output_type": "execute_result",
          "data": {
            "text/plain": [
              "<Figure size 432x288 with 0 Axes>"
            ]
          },
          "metadata": {
            "tags": []
          },
          "execution_count": 9
        },
        {
          "output_type": "display_data",
          "data": {
            "image/png": "[encoded data removed]",
            "text/plain": [
              "<Figure size 432x288 with 1 Axes>"
            ]
          },
          "metadata": {
            "tags": [],
            "needs_background": "light"
          }
        },
        {
          "output_type": "display_data",
          "data": {
            "image/png": "[encoded data removed]",
            "text/plain": [
              "<Figure size 432x288 with 1 Axes>"
            ]
          },
          "metadata": {
            "tags": [],
            "needs_background": "light"
          }
        },
        {
          "output_type": "display_data",
          "data": {
            "text/plain": [
              "<Figure size 432x288 with 0 Axes>"
            ]
          },
          "metadata": {
            "tags": []
          }
        }
      ]
    },
    {
      "cell_type": "code",
      "metadata": {
        "id": "27uCA2uoD6NF",
        "colab_type": "code",
        "colab": {}
      },
      "source": [
        ""
      ],
      "execution_count": null,
      "outputs": []
    }
  ]
}